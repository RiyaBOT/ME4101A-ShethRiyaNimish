{
 "cells": [
  {
   "cell_type": "markdown",
   "id": "manufactured-authentication",
   "metadata": {},
   "source": [
    "# Crystal Graph Convolutional Neural Networks\n",
    "### Sheth Riya Nimish\n",
    "### A0176880R\n",
    "e0235287@u.nus.edu"
   ]
  },
  {
   "cell_type": "markdown",
   "id": "opponent-vessel",
   "metadata": {},
   "source": [
    "#### The code here is to execute the crystal graph convolutional neural network. The code here has been written by me from scratch while the model used is a published model. \n",
    "\n",
    "The model was published in the following github repository: https://github.com/txie-93/cgcnn"
   ]
  },
  {
   "cell_type": "markdown",
   "id": "million-shelf",
   "metadata": {},
   "source": [
    "#### Table of Contents\n",
    "\n",
    "* [Importing the Required Libraries](#import)\n",
    "* [Creating a Document to Store the Results](#create)\n",
    "* [Hyperparameter Optimisation](#opt)\n",
    "   * [Learning Rate](#lr)\n",
    "   * [Optimizers](#optim)\n",
    "   * [Number of Convolutional Layers](#ncl)\n",
    "   * [Training Ratio](#tr)\n",
    "   * [Atom Features](#af)\n",
    "   * [Hidden Layers After Pooling](#hl)\n",
    "* [Evaluation of the Accuracy of the Model](#eval)\n",
    "* [Simulaneous Hyperparameter Optimisation](#sho)\n",
    "* [The Best Model Obtained](#bmo)"
   ]
  },
  {
   "cell_type": "markdown",
   "id": "equipped-influence",
   "metadata": {},
   "source": [
    "Apart from writing code myself, I also used machine learning models published in papers to conduct similar prediction studies as above. Xie et al used Crystal Graph Convolutional Neural Networks to directly learn material properties from the connection of atoms in the crystal. This model required the input to be a CIF (Crystallographic Information Framework) and the input given to this model was all the CIF files from 2DMatpedia."
   ]
  },
  {
   "cell_type": "markdown",
   "id": "enormous-surgeon",
   "metadata": {},
   "source": [
    "### Importing the Required Libraries<a class=\"anchor\" id=\"import\"></a>"
   ]
  },
  {
   "cell_type": "code",
   "execution_count": null,
   "id": "faced-fireplace",
   "metadata": {},
   "outputs": [],
   "source": [
    "import pandas as pd\n",
    "import random\n",
    "from matplotlib import pyplot as plt\n",
    "import numpy as np\n",
    "import docx"
   ]
  },
  {
   "cell_type": "markdown",
   "id": "reliable-swimming",
   "metadata": {},
   "source": [
    "### Creating a Document to Store the Results of Machine Learning <a class=\"anchor\" id=\"create\"></a>"
   ]
  },
  {
   "cell_type": "code",
   "execution_count": null,
   "id": "prospective-province",
   "metadata": {},
   "outputs": [],
   "source": [
    "mydoc= docx.Document()\n",
    "mydoc.add_heading(\"Crystal Graph Convolultional Neural Networks\", 0)"
   ]
  },
  {
   "cell_type": "markdown",
   "id": "undefined-accreditation",
   "metadata": {},
   "source": [
    "### Evaluation of Accuracy<a class=\"anchor\" id=\"eval\"></a>\n",
    "This function helps us to determine the accuracy of the model. Since the model results in a probabilistic classification it is important to compute the accuracy by rounding up the probability rendered."
   ]
  },
  {
   "cell_type": "code",
   "execution_count": null,
   "id": "ongoing-devices",
   "metadata": {},
   "outputs": [],
   "source": [
    "def calculate_accuracy():\n",
    "    \n",
    "    testresults= pd.read_csv(\"test_results.csv\")\n",
    "    materialid= (testresults.iloc[:, 0]).values.tolist()\n",
    "    targetvalue= (testresults.iloc[:, 1]).values.tolist()\n",
    "    probability= (testresults.iloc[:, 2]).values.tolist()\n",
    "  \n",
    "    choice= [0, 1]\n",
    "    probresults= []\n",
    "    count=0\n",
    "    for i in range (0, len(probability)):\n",
    "        result= random.choices(choice, weights= (1-probability[i], probability[i]), k=1)\n",
    "        if result[0] == targetvalue[i]:\n",
    "            count= count+1\n",
    "    accuracy= count/len(probability)\n",
    "    return accuracy\n",
    "\n",
    "accuracylist=[]\n",
    "for i in range (100):\n",
    "    accuracylist.append(calculate_accuracy())\n",
    "\n",
    "plt.plot(accuracylist)\n",
    "plt.title(\"Accuracy vs Number of Trials\")\n",
    "plt.xlabel(\"Number of Trials\")\n",
    "plt.ylabel(\"Accuracy\")\n",
    "plt.savefig(\"accuracyvsnumberoftrials.png\")\n",
    "mydoc.add_paragraph(\"Accuracy vs Number of Trials\")\n",
    "mydoc.add_picture(\"accuracyvsnumberoftrials.png\")"
   ]
  },
  {
   "cell_type": "markdown",
   "id": "convinced-strike",
   "metadata": {},
   "source": [
    "### Hyperparameter Optimisation <a class=\"anchor\" id=\"opt\"></a>"
   ]
  },
  {
   "cell_type": "markdown",
   "id": "marked-baghdad",
   "metadata": {},
   "source": [
    "This model was not trained for this specific dataset, hence it is necessary to optimise the model such that the parameters are specifically suited for this dataset and can yield the best performance. Different parameters such as training ratio, learning rate were optimised. One of the difficulties in this optimisation was the fact that the model had to run through the terminal so the options for each of the parameters had to be manually coded as seen below and hence only a few alternatives for each of the parameters could be computed. It was also computationally very time-consuming hence hyperparameter optimisation could not be carried out in greater detail"
   ]
  },
  {
   "cell_type": "markdown",
   "id": "cooperative-turtle",
   "metadata": {},
   "source": [
    "#### Learning Rate <a class=\"anchor\" id=\"lr\"></a>\n",
    "The learning rate is a hyperparameter that controls how much to change the model in response to the estimated error each time the model weights are updated."
   ]
  },
  {
   "cell_type": "code",
   "execution_count": null,
   "id": "occasional-collectible",
   "metadata": {},
   "outputs": [],
   "source": [
    "accuracylist=[]\n",
    "learningrates= [0.01, 0.05, 0.10, 0.15, 0.2]\n",
    "\n",
    "for i in range(5):\n",
    "    \n",
    "    if i==0:\n",
    "        ! python main.py --task classification --train-ratio 0.6 --val-ratio 0.2 --test-ratio 0.2 --epochs 5 --lr 0.01 data/cif\n",
    "    if i==1:\n",
    "        ! python main.py --task classification --train-ratio 0.6 --val-ratio 0.2 --test-ratio 0.2 --epochs 5 --lr 0.05 data/cif\n",
    "    if i==2:\n",
    "        ! python main.py --task classification --train-ratio 0.6 --val-ratio 0.2 --test-ratio 0.2 --epochs 5 --lr 0.10 data/cif\n",
    "    if i==3:\n",
    "        ! python main.py --task classification --train-ratio 0.6 --val-ratio 0.2 --test-ratio 0.2 --epochs 5 --lr 0.15 data/cif\n",
    "    if i==4:\n",
    "        ! python main.py --task classification --train-ratio 0.6 --val-ratio 0.2 --test-ratio 0.2 --epochs 5 --lr 0.20 data/cif\n",
    "    \n",
    "    accuracylist.append(calculate_accuracy())\n",
    "\n",
    "lt.plot(learningrates, accuracylist)\n",
    "plt.title(\"Accuracy vs Learning Rate\")\n",
    "plt.xlabel(\"Learning Rate\")\n",
    "plt.ylabel(\"Accuracy\")\n",
    "plt.savefig(\"accuracyvslearningrate.png\")\n",
    "mydoc.add_paragraph(\"Accuracy vs Learning Rate\")\n",
    "mydoc.add_picture(\"accuracyvslearningrate.png\")\n"
   ]
  },
  {
   "cell_type": "markdown",
   "id": "historic-encounter",
   "metadata": {},
   "source": [
    "#### Optimizers <a class=\"anchor\" id=\"optim\"></a>\n",
    "Optimizers are algorithms or methods used to change the attributes of your neural network such as weights and learning rate in order to reduce the losses."
   ]
  },
  {
   "cell_type": "code",
   "execution_count": null,
   "id": "strange-birmingham",
   "metadata": {},
   "outputs": [],
   "source": [
    "accuracylist=[]\n",
    "! python main.py --task classification --train-ratio 0.6 --val-ratio 0.2 --test-ratio 0.2 --epochs 10 --optim 'SGD' -- data/cif\n",
    "accuracylist.append(calculate_accuracy())\n",
    "! python main.py --task classification --train-ratio 0.6 --val-ratio 0.2 --test-ratio 0.2 --epochs 10 --optim 'Adam' -- data/cif\n",
    "accuracylist.append(calculate_accuracy())\n",
    "accuracylist\n",
    "\n",
    "mydoc.add_heading(\"Change of Optimizers\")\n",
    "mydoc.add_paragraph(\"SGD\")\n",
    "mydoc.add_paragraph(str(accuracylist[0]))\n",
    "mydoc.add_paragraph(\"Adam\")\n",
    "mydoc.add_paragraph(str(accuracylist[1]))\n"
   ]
  },
  {
   "cell_type": "markdown",
   "id": "tropical-sound",
   "metadata": {},
   "source": [
    "#### Number of Convolutional Layers <a class=\"anchor\" id=\"ncl\"></a>\n",
    "The convolutional layer is the core building block of a CNN. The layer's parameters consist of a set of learnable filters (or kernels)."
   ]
  },
  {
   "cell_type": "code",
   "execution_count": null,
   "id": "renewable-lobby",
   "metadata": {},
   "outputs": [],
   "source": [
    "accuracylist=[]\n",
    "learningrate= 0.01\n",
    "for i in range(5):\n",
    "    print(i+1)\n",
    "    if i==0:\n",
    "        ! python main.py --task classification --train-ratio 0.6 --val-ratio 0.2 --test-ratio 0.2 --epochs 5 --n-conv 3 data/cif\n",
    "    if i==1:\n",
    "        ! python main.py --task classification --train-ratio 0.6 --val-ratio 0.2 --test-ratio 0.2 --epochs 5 --n-conv 5 data/cif\n",
    "    if i==2:\n",
    "        ! python main.py --task classification --train-ratio 0.6 --val-ratio 0.2 --test-ratio 0.2 --epochs 5 --n-conv 7 data/cif\n",
    "    if i==3:\n",
    "        ! python main.py --task classification --train-ratio 0.6 --val-ratio 0.2 --test-ratio 0.2 --epochs 5 --n-conv 11 data/cif\n",
    "    if i==4:\n",
    "        ! python main.py --task classification --train-ratio 0.6 --val-ratio 0.2 --test-ratio 0.2 --epochs 5 --n-conv 16 data/cif\n",
    "   \n",
    "    accuracylist.append(calculate_accuracy())\n",
    "    \n",
    "plt.plot(accuracylist)\n",
    "plt.plot([3, 5, 7, 11, 16], accuracylist)\n",
    "plt.title(\"Accuracy vs Number of Convolutional Neural Networks\")\n",
    "plt.xlabel(\"Number of Convolutional Neural Networks\")\n",
    "plt.ylabel(\"Accuracy\")\n",
    "plt.savefig(\"accuracyneuralnetworks.png\")\n",
    "mydoc.add_heading(\"Accuracy vs Number of Convolutional Neural Networks\")\n",
    "mydoc.add_paragraph(\"accuracyneuralnetworks.png\")"
   ]
  },
  {
   "cell_type": "markdown",
   "id": "strong-bridges",
   "metadata": {},
   "source": [
    "#### Training Ratio <a class=\"anchor\" id=\"tr\"></a>\n",
    "The ratio of the data reserved for training the model, while the rest of the data would be used for validation or testing. "
   ]
  },
  {
   "cell_type": "code",
   "execution_count": null,
   "id": "african-square",
   "metadata": {},
   "outputs": [],
   "source": [
    "accuracylist=[]\n",
    "! python main.py --task classification --train-ratio 0.6 --val-ratio 0.2 --test-ratio 0.1 --epochs 10 -- data/cif\n",
    "accuracylist.append(calculate_accuracy())\n",
    "! python main.py --task classification --train-ratio 0.7 --val-ratio 0.2 --test-ratio 0.2 --epochs 10  -- data/cif\n",
    "accuracylist.append(calculate_accuracy())\n",
    "! python main.py --task classification --train-ratio 0.8 --val-ratio 0.1 --test-ratio 0.1 --epochs 10  -- data/cif\n",
    "accuracylist.append(calculate_accuracy())\n",
    "! python main.py --task classification --train-ratio 0.9 --val-ratio 0.05 --test-ratio 0.05 --epochs 10  -- data/cif\n",
    "accuracylist.append(calculate_accuracy())\n",
    "accuracylist"
   ]
  },
  {
   "cell_type": "markdown",
   "id": "mathematical-withdrawal",
   "metadata": {},
   "source": [
    "#### Atom Features <a class=\"anchor\" id=\"af\"></a>\n",
    "Additional Hyperparamaters of the model"
   ]
  },
  {
   "cell_type": "code",
   "execution_count": null,
   "id": "interstate-criticism",
   "metadata": {},
   "outputs": [],
   "source": [
    "accuracylist=[]\n",
    "learningrate= 0.01\n",
    "for i in range(5):\n",
    "    print(i+1)\n",
    "    if i==0:\n",
    "        ! python main.py --task classification --train-ratio 0.6 --val-ratio 0.2 --test-ratio 0.2 --epochs 5 --atom-fea-len 32 data/cif\n",
    "    if i==1:\n",
    "        ! python main.py --task classification --train-ratio 0.6 --val-ratio 0.2 --test-ratio 0.2 --epochs 5 --atom-fea-len 48 data/cif\n",
    "    if i==2:\n",
    "        ! python main.py --task classification --train-ratio 0.6 --val-ratio 0.2 --test-ratio 0.2 --epochs 5 --atom-fea-len 64 data/cif\n",
    "    if i==3:\n",
    "        ! python main.py --task classification --train-ratio 0.6 --val-ratio 0.2 --test-ratio 0.2 --epochs 5 --atom-fea-len 80 data/cif\n",
    "    if i==4:\n",
    "        ! python main.py --task classification --train-ratio 0.6 --val-ratio 0.2 --test-ratio 0.2 --epochs 5 --atom-fea-len 96 data/cif\n",
    "   \n",
    "    accuracylist.append(calculate_accuracy())\n",
    "\n",
    "plt.plot( [32, 48, 64, 80, 96], accuracylist)"
   ]
  },
  {
   "cell_type": "markdown",
   "id": "fixed-territory",
   "metadata": {},
   "source": [
    "#### Hidden Features After Pooling <a class=\"anchor\" id=\"hf\"></a>\n",
    "Additional Hyperparamaters of the model"
   ]
  },
  {
   "cell_type": "code",
   "execution_count": null,
   "id": "graduate-clark",
   "metadata": {},
   "outputs": [],
   "source": [
    "accuracylist=[]\n",
    "learningrate= 0.01\n",
    "for i in range(5):\n",
    "    print(i+1)\n",
    "    if i==0:\n",
    "        ! python main.py --task classification --train-ratio 0.6 --val-ratio 0.2 --test-ratio 0.2 --epochs 5 --h-fea-len 64 data/cif\n",
    "    if i==1:\n",
    "        ! python main.py --task classification --train-ratio 0.6 --val-ratio 0.2 --test-ratio 0.2 --epochs 5 --h-fea-len 96 data/cif\n",
    "    if i==2:\n",
    "        ! python main.py --task classification --train-ratio 0.6 --val-ratio 0.2 --test-ratio 0.2 --epochs 5 --h-fea-len 128 data/cif\n",
    "    if i==3:\n",
    "        ! python main.py --task classification --train-ratio 0.6 --val-ratio 0.2 --test-ratio 0.2 --epochs 5 --h-fea-len 192 data/cif\n",
    "    if i==4:\n",
    "        ! python main.py --task classification --train-ratio 0.6 --val-ratio 0.2 --test-ratio 0.2 --epochs 5 --h-fea-len 256 data/cif\n",
    "   \n",
    "    accuracylist.append(calculate_accuracy())\n",
    "    \n",
    "plt.plot([64, 96, 128, 192, 256], accuracylist)"
   ]
  },
  {
   "cell_type": "markdown",
   "id": "changed-opening",
   "metadata": {},
   "source": [
    "#### Checking for Optimisation of Multiple Hyperparameters at Once <a class=\"anchor\" id=\"sho\"></a>\n",
    "This helps to geta better estimate of which hyperparameters would be the best"
   ]
  },
  {
   "cell_type": "code",
   "execution_count": null,
   "id": "unexpected-wholesale",
   "metadata": {},
   "outputs": [],
   "source": [
    "counter=0\n",
    "accuracylist=[]\n",
    "for i in range(76):\n",
    "    if i==25:\n",
    "        pass\n",
    "    if i==0:\n",
    "        ! python main.py --train-ratio 0.6 --val-ratio 0.2 --test-ratio 0.2 --epochs 10 --n-conv 3 --lr 0.01 data/cif\n",
    "    if i ==1:\n",
    "        ! python main.py --train-ratio 0.6 --val-ratio 0.2 --test-ratio 0.2 --epochs 20 --n-conv 3 --lr 0.01 data/cif\n",
    "    if i==2:\n",
    "        ! python main.py --train-ratio 0.6 --val-ratio 0.2 --test-ratio 0.2 --epochs 25 --n-conv 3 --lr 0.01 data/cif\n",
    "    if i==3:\n",
    "        ! python main.py --train-ratio 0.6 --val-ratio 0.2 --test-ratio 0.2 --epochs 15 --n-conv 3 --lr 0.01 data/cif\n",
    "    if i==4:\n",
    "        ! python main.py --train-ratio 0.6 --val-ratio 0.2 --test-ratio 0.2 --epochs 5 --n-conv 3 --lr 0.01 data/cif\n",
    "        \n",
    "    if i==5:\n",
    "        ! python main.py --train-ratio 0.6 --val-ratio 0.2 --test-ratio 0.2 --epochs 10 --n-conv 5 --lr 0.01 data/cif\n",
    "    if i ==6:\n",
    "        ! python main.py --train-ratio 0.6 --val-ratio 0.2 --test-ratio 0.2 --epochs 20 --n-conv 5 --lr 0.01 data/cif\n",
    "    if i==7:\n",
    "        ! python main.py --train-ratio 0.6 --val-ratio 0.2 --test-ratio 0.2 --epochs 25 --n-conv 5 --lr 0.01 data/cif\n",
    "    if i==8:\n",
    "        ! python main.py --train-ratio 0.6 --val-ratio 0.2 --test-ratio 0.2 --epochs 15 --n-conv 5 --lr 0.01 data/cif\n",
    "    if i==9:\n",
    "        ! python main.py --train-ratio 0.6 --val-ratio 0.2 --test-ratio 0.2 --epochs 5 --n-conv 5 --lr 0.01 data/cif\n",
    "        \n",
    "    if i==10:\n",
    "        ! python main.py --train-ratio 0.6 --val-ratio 0.2 --test-ratio 0.2 --epochs 10 --n-conv 7` --lr 0.01 data/cif\n",
    "    if i ==11:\n",
    "        ! python main.py --train-ratio 0.6 --val-ratio 0.2 --test-ratio 0.2 --epochs 20 --n-conv 7 --lr 0.01 data/cif\n",
    "    if i==12:\n",
    "        ! python main.py --train-ratio 0.6 --val-ratio 0.2 --test-ratio 0.2 --epochs 25 --n-conv 7 --lr 0.01 data/cif\n",
    "    if i==13:\n",
    "        ! python main.py --train-ratio 0.6 --val-ratio 0.2 --test-ratio 0.2 --epochs 15 --n-conv 7 --lr 0.01 data/cif\n",
    "    if i==14:\n",
    "        ! python main.py --train-ratio 0.6 --val-ratio 0.2 --test-ratio 0.2 --epochs 5 --n-conv 7 --lr 0.01 data/cif\n",
    "    \n",
    "    if i==15:\n",
    "        ! python main.py --train-ratio 0.6 --val-ratio 0.2 --test-ratio 0.2 --epochs 10 --n-conv 11 --lr 0.01 data/cif\n",
    "    if i ==16:\n",
    "        ! python main.py --train-ratio 0.6 --val-ratio 0.2 --test-ratio 0.2 --epochs 20 --n-conv 11 --lr 0.01 data/cif\n",
    "    if i==17:\n",
    "        ! python main.py --train-ratio 0.6 --val-ratio 0.2 --test-ratio 0.2 --epochs 25 --n-conv 11 --lr 0.01 data/cif\n",
    "    if i==18:\n",
    "        ! python main.py --train-ratio 0.6 --val-ratio 0.2 --test-ratio 0.2 --epochs 15 --n-conv 11 --lr 0.01 data/cif\n",
    "    if i==19:\n",
    "        ! python main.py --train-ratio 0.6 --val-ratio 0.2 --test-ratio 0.2 --epochs 5 --n-conv 11 --lr 0.01 data/cif\n",
    "        \n",
    "    \n",
    "    if i==20:\n",
    "        ! python main.py --train-ratio 0.6 --val-ratio 0.2 --test-ratio 0.2 --epochs 10 --n-conv 16 --lr 0.01 data/cif\n",
    "    if i ==21:\n",
    "        ! python main.py --train-ratio 0.6 --val-ratio 0.2 --test-ratio 0.2 --epochs 20 --n-conv 16 --lr 0.01 data/cif\n",
    "    if i==22:\n",
    "        ! python main.py --train-ratio 0.6 --val-ratio 0.2 --test-ratio 0.2 --epochs 25 --n-conv 16 --lr 0.01 data/cif\n",
    "    if i==23:\n",
    "        ! python main.py --train-ratio 0.6 --val-ratio 0.2 --test-ratio 0.2 --epochs 15 --n-conv 16 --lr 0.01 data/cif\n",
    "    if i==24:\n",
    "        ! python main.py --train-ratio 0.6 --val-ratio 0.2 --test-ratio 0.2 --epochs 5 --n-conv 16 --lr 0.01 data/cif\n",
    "    \n",
    "    if i==26:\n",
    "        ! python main.py --train-ratio 0.6 --val-ratio 0.2 --test-ratio 0.2 --epochs 10 --n-conv 3 --lr 0.05 data/cif\n",
    "    if i ==27:\n",
    "        ! python main.py --train-ratio 0.6 --val-ratio 0.2 --test-ratio 0.2 --epochs 20 --n-conv 3 --lr 0.05 data/cif\n",
    "    if i==28:\n",
    "        ! python main.py --train-ratio 0.6 --val-ratio 0.2 --test-ratio 0.2 --epochs 25 --n-conv 3 --lr 0.05 data/cif\n",
    "    if i==29:\n",
    "        ! python main.py --train-ratio 0.6 --val-ratio 0.2 --test-ratio 0.2 --epochs 15 --n-conv 3 --lr 0.05 data/cif\n",
    "    if i==30:\n",
    "        ! python main.py --train-ratio 0.6 --val-ratio 0.2 --test-ratio 0.2 --epochs 5 --n-conv 3 --lr 0.05 data/cif\n",
    "        \n",
    "    if i==31:\n",
    "        ! python main.py --train-ratio 0.6 --val-ratio 0.2 --test-ratio 0.2 --epochs 10 --n-conv 5 --lr 0.05 data/cif\n",
    "    if i ==32:\n",
    "        ! python main.py --train-ratio 0.6 --val-ratio 0.2 --test-ratio 0.2 --epochs 20 --n-conv 5 --lr 0.05 data/cif\n",
    "    if i==33:\n",
    "        ! python main.py --train-ratio 0.6 --val-ratio 0.2 --test-ratio 0.2 --epochs 25 --n-conv 5 --lr 0.05 data/cif\n",
    "    if i== 34:\n",
    "        ! python main.py --train-ratio 0.6 --val-ratio 0.2 --test-ratio 0.2 --epochs 15 --n-conv 5 --lr 0.05 data/cif\n",
    "    if i== 35:\n",
    "        ! python main.py --train-ratio 0.6 --val-ratio 0.2 --test-ratio 0.2 --epochs 5 --n-conv 5 --lr 0.05 data/cif\n",
    "        \n",
    "    if i==36:\n",
    "        ! python main.py --train-ratio 0.6 --val-ratio 0.2 --test-ratio 0.2 --epochs 10 --n-conv 7` --lr 0.05 data/cif\n",
    "    if i ==37:\n",
    "        ! python main.py --train-ratio 0.6 --val-ratio 0.2 --test-ratio 0.2 --epochs 20 --n-conv 7 --lr 0.05 data/cif\n",
    "    if i==38:\n",
    "        ! python main.py --train-ratio 0.6 --val-ratio 0.2 --test-ratio 0.2 --epochs 25 --n-conv 7 --lr 0.05 data/cif\n",
    "    if i==39:\n",
    "        ! python main.py --train-ratio 0.6 --val-ratio 0.2 --test-ratio 0.2 --epochs 15 --n-conv 7 --lr 0.05 data/cif\n",
    "    if i==40:\n",
    "        ! python main.py --train-ratio 0.6 --val-ratio 0.2 --test-ratio 0.2 --epochs 5 --n-conv 7 --lr 0.05 data/cif\n",
    "    \n",
    "    if i==41:\n",
    "        ! python main.py --train-ratio 0.6 --val-ratio 0.2 --test-ratio 0.2 --epochs 10 --n-conv 11 --lr 0.05 data/cif\n",
    "    if i == 42:\n",
    "        ! python main.py --train-ratio 0.6 --val-ratio 0.2 --test-ratio 0.2 --epochs 20 --n-conv 11 --lr 0.05 data/cif\n",
    "    if i== 43:\n",
    "        ! python main.py --train-ratio 0.6 --val-ratio 0.2 --test-ratio 0.2 --epochs 25 --n-conv 11 --lr 0.05 data/cif\n",
    "    if i== 44:\n",
    "        ! python main.py --train-ratio 0.6 --val-ratio 0.2 --test-ratio 0.2 --epochs 15 --n-conv 11 --lr 0.05 data/cif\n",
    "    if i==45:\n",
    "        ! python main.py --train-ratio 0.6 --val-ratio 0.2 --test-ratio 0.2 --epochs 5 --n-conv 11 --lr 0.05 data/cif\n",
    "        \n",
    "    \n",
    "    if i==46:\n",
    "        ! python main.py --train-ratio 0.6 --val-ratio 0.2 --test-ratio 0.2 --epochs 10 --n-conv 16 --lr 0.05 data/cif\n",
    "    if i == 47:\n",
    "        ! python main.py --train-ratio 0.6 --val-ratio 0.2 --test-ratio 0.2 --epochs 20 --n-conv 16 --lr 0.05 data/cif\n",
    "    if i== 48:\n",
    "        ! python main.py --train-ratio 0.6 --val-ratio 0.2 --test-ratio 0.2 --epochs 25 --n-conv 16 --lr 0.05 data/cif\n",
    "    if i== 49:\n",
    "        ! python main.py --train-ratio 0.6 --val-ratio 0.2 --test-ratio 0.2 --epochs 15 --n-conv 16 --lr 0.05 data/cif\n",
    "    if i==50:\n",
    "        ! python main.py --train-ratio 0.6 --val-ratio 0.2 --test-ratio 0.2 --epochs 5 --n-conv 16 --lr 0.05 data/cif\n",
    "        \n",
    "    \n",
    "    if i==51:\n",
    "        ! python main.py --train-ratio 0.6 --val-ratio 0.2 --test-ratio 0.2 --epochs 10 --n-conv 3 --lr 0.1 data/cif\n",
    "    if i == 52:\n",
    "        ! python main.py --train-ratio 0.6 --val-ratio 0.2 --test-ratio 0.2 --epochs 20 --n-conv 3 --lr 0.1 data/cif\n",
    "    if i== 53:\n",
    "        ! python main.py --train-ratio 0.6 --val-ratio 0.2 --test-ratio 0.2 --epochs 25 --n-conv 3 --lr 0.1 data/cif\n",
    "    if i==54:\n",
    "        ! python main.py --train-ratio 0.6 --val-ratio 0.2 --test-ratio 0.2 --epochs 15 --n-conv 3 --lr 0.1 data/cif\n",
    "    if i==55:\n",
    "        ! python main.py --train-ratio 0.6 --val-ratio 0.2 --test-ratio 0.2 --epochs 5 --n-conv 3 --lr 0.1 data/cif\n",
    "        \n",
    "    if i==56:\n",
    "        ! python main.py --train-ratio 0.6 --val-ratio 0.2 --test-ratio 0.2 --epochs 10 --n-conv 5 --lr 0.1 data/cif\n",
    "    if i ==57:\n",
    "        ! python main.py --train-ratio 0.6 --val-ratio 0.2 --test-ratio 0.2 --epochs 20 --n-conv 5 --lr 0.1 data/cif\n",
    "    if i==58:\n",
    "        ! python main.py --train-ratio 0.6 --val-ratio 0.2 --test-ratio 0.2 --epochs 25 --n-conv 5 --lr 0.1 data/cif\n",
    "    if i==59:\n",
    "        ! python main.py --train-ratio 0.6 --val-ratio 0.2 --test-ratio 0.2 --epochs 15 --n-conv 5 --lr 0.1 data/cif\n",
    "    if i==60:\n",
    "        ! python main.py --train-ratio 0.6 --val-ratio 0.2 --test-ratio 0.2 --epochs 5 --n-conv 5 --lr 0.1 data/cif\n",
    "        \n",
    "    if i==61:\n",
    "        ! python main.py --train-ratio 0.6 --val-ratio 0.2 --test-ratio 0.2 --epochs 10 --n-conv 7` --lr 0.1 data/cif\n",
    "    if i ==62:\n",
    "        ! python main.py --train-ratio 0.6 --val-ratio 0.2 --test-ratio 0.2 --epochs 20 --n-conv 7 --lr 0.1 data/cif\n",
    "    if i==63:\n",
    "        ! python main.py --train-ratio 0.6 --val-ratio 0.2 --test-ratio 0.2 --epochs 25 --n-conv 7 --lr 0.1 data/cif\n",
    "    if i==64:\n",
    "        ! python main.py --train-ratio 0.6 --val-ratio 0.2 --test-ratio 0.2 --epochs 15 --n-conv 7 --lr 0.1 data/cif\n",
    "    if i==65:\n",
    "        ! python main.py --train-ratio 0.6 --val-ratio 0.2 --test-ratio 0.2 --epochs 5 --n-conv 7 --lr 0.1 data/cif\n",
    "    \n",
    "    if i==66:\n",
    "        ! python main.py --train-ratio 0.6 --val-ratio 0.2 --test-ratio 0.2 --epochs 10 --n-conv 11 --lr 0.1 data/cif\n",
    "    if i ==67:\n",
    "        ! python main.py --train-ratio 0.6 --val-ratio 0.2 --test-ratio 0.2 --epochs 20 --n-conv 11 --lr 0.1 data/cif\n",
    "    if i==68:\n",
    "        ! python main.py --train-ratio 0.6 --val-ratio 0.2 --test-ratio 0.2 --epochs 25 --n-conv 11 --lr 0.1 data/cif\n",
    "    if i==69:\n",
    "        ! python main.py --train-ratio 0.6 --val-ratio 0.2 --test-ratio 0.2 --epochs 15 --n-conv 11 --lr 0.1 data/cif\n",
    "    if i==70:\n",
    "        ! python main.py --train-ratio 0.6 --val-ratio 0.2 --test-ratio 0.2 --epochs 5 --n-conv 11 --lr 0.1 data/cif\n",
    "        \n",
    "    \n",
    "    if i==71:\n",
    "        ! python main.py --train-ratio 0.6 --val-ratio 0.2 --test-ratio 0.2 --epochs 10 --n-conv 16 --lr 0.1 data/cif\n",
    "    if i ==72:\n",
    "        ! python main.py --train-ratio 0.6 --val-ratio 0.2 --test-ratio 0.2 --epochs 20 --n-conv 16 --lr 0.1 data/cif\n",
    "    if i==73:\n",
    "        ! python main.py --train-ratio 0.6 --val-ratio 0.2 --test-ratio 0.2 --epochs 25 --n-conv 16 --lr 0.1 data/cif\n",
    "    if i==74:\n",
    "        ! python main.py --train-ratio 0.6 --val-ratio 0.2 --test-ratio 0.2 --epochs 15 --n-conv 16 --lr 0.1 data/cif\n",
    "    if i==75:\n",
    "        ! python main.py --train-ratio 0.6 --val-ratio 0.2 --test-ratio 0.2 --epochs 5 --n-conv 16 --lr 0.1 data/cif\n",
    "    accuracylist.append(calculate_accuracy())"
   ]
  },
  {
   "cell_type": "markdown",
   "id": "disciplinary-wagon",
   "metadata": {},
   "source": [
    "#### The best result found after optimisation<a class=\"anchor\" id=\"bmo\"></a>"
   ]
  },
  {
   "cell_type": "code",
   "execution_count": null,
   "id": "living-lunch",
   "metadata": {},
   "outputs": [],
   "source": [
    "! python main.py --task classification --train-ratio 0.9 --val-ratio 0.05 --test-ratio 0.05 --epochs 50 --h-fea-len 128 --n-conv 11 --lr 0.15 --atom-fea-len 32 data/cif\n",
    "accuracylist=[]\n",
    "for i in range (100):\n",
    "    accuracylist.append(calculate_accuracy())\n",
    "\n",
    "plt.plot(accuracylist)\n",
    "plt.title(\"Accuracy vs Number of Trials\")\n",
    "plt.xlabel(\"Number of Trials\")\n",
    "plt.ylabel(\"Accuracy\")"
   ]
  },
  {
   "cell_type": "markdown",
   "id": "legendary-theme",
   "metadata": {},
   "source": [
    "#### Time Taken for Training the Model"
   ]
  },
  {
   "cell_type": "code",
   "execution_count": null,
   "id": "composed-music",
   "metadata": {},
   "outputs": [],
   "source": [
    "#uncomment if you want to obtain the time needed for executing the range of epochs\n",
    "\n",
    "\"\"\"\n",
    "#time graph\n",
    "import time\n",
    "time_array=[]\n",
    "for i in range(5):\n",
    "    ep_start = time.time()\n",
    "    if i==0:\n",
    "        ! python main.py --train-ratio 0.6 --val-ratio 0.2 --test-ratio 0.2 --epochs 5 data/cif\n",
    "    if i ==1:\n",
    "        ! python main.py --train-ratio 0.6 --val-ratio 0.2 --test-ratio 0.2 --epochs 10 data/cif\n",
    "    if i==2:\n",
    "        ! python main.py --train-ratio 0.6 --val-ratio 0.2 --test-ratio 0.2 --epochs 20 data/cif\n",
    "    if i==3:\n",
    "        ! python main.py --train-ratio 0.6 --val-ratio 0.2 --test-ratio 0.2 --epochs 40 data/cif\n",
    "    if i==4:\n",
    "        ! python main.py --train-ratio 0.6 --val-ratio 0.2 --test-ratio 0.2 --epochs 60 data/cif\n",
    "    ep_end = time.time()\n",
    "    print(i)\n",
    "    time_diff = ep_end - ep_start\n",
    "    time_array.append(time_diff)\n",
    "print(time_array)\n",
    "plt.figure()  \n",
    "plt.plot( [5, 10, 15, 20, 25], time_array)\n",
    "plt.ylabel(\"Time taken per episode\")\n",
    "plt.xlabel(\"Episode\")\n",
    "plt.title(\"Time taken per episode vs episodes\")\n",
    "\"\"\"    "
   ]
  }
 ],
 "metadata": {
  "kernelspec": {
   "display_name": "Python 3",
   "language": "python",
   "name": "python3"
  },
  "language_info": {
   "codemirror_mode": {
    "name": "ipython",
    "version": 3
   },
   "file_extension": ".py",
   "mimetype": "text/x-python",
   "name": "python",
   "nbconvert_exporter": "python",
   "pygments_lexer": "ipython3",
   "version": "3.8.3"
  }
 },
 "nbformat": 4,
 "nbformat_minor": 5
}
